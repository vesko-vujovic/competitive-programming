{
 "cells": [
  {
   "cell_type": "code",
   "execution_count": 149,
   "metadata": {},
   "outputs": [],
   "source": [
    "A = [-5,-3,0,-1,3,6]"
   ]
  },
  {
   "cell_type": "code",
   "execution_count": 150,
   "metadata": {},
   "outputs": [],
   "source": [
    "def check(back, front):\n",
    "\n",
    "    if ( back > 0 and front > 0 and front != back ):\n",
    "        return True\n",
    "    elif ( back < 0 and front < 0 and front != back ):\n",
    "        return True\n",
    "    elif (back > 0 and front < 0):\n",
    "        front = front * - 1\n",
    "        \n",
    "        if(front != back):\n",
    "            return True\n",
    "        else:\n",
    "            return False\n",
    "    else:\n",
    "        back = back * -1\n",
    "\n",
    "        if(front != back):\n",
    "            return True\n",
    "        else:\n",
    "            return False\n",
    "\n"
   ]
  },
  {
   "cell_type": "code",
   "execution_count": 151,
   "metadata": {},
   "outputs": [],
   "source": [
    "## 87 percent on codility \n",
    "def solution(A):\n",
    "    n            = len(A)\n",
    "    total        = 0\n",
    "    front        = 0\n",
    "    cnt          = 0\n",
    "\n",
    "    for back in range(n):\n",
    "\n",
    "        front = back + 1\n",
    "        while ( front < n and check(A[back], A[front])  ):\n",
    "            front += 1\n",
    "\n",
    "        if( front < n and check(A[back], A[front]) ):\n",
    "\n",
    "            cnt += 1\n",
    "\n",
    "    return n - cnt"
   ]
  },
  {
   "cell_type": "code",
   "execution_count": 152,
   "metadata": {},
   "outputs": [],
   "source": [
    "solution = solution(A)"
   ]
  },
  {
   "cell_type": "code",
   "execution_count": 153,
   "metadata": {},
   "outputs": [
    {
     "output_type": "execute_result",
     "data": {
      "text/plain": "6"
     },
     "metadata": {},
     "execution_count": 153
    }
   ],
   "source": [
    "solution"
   ]
  },
  {
   "cell_type": "code",
   "execution_count": 154,
   "metadata": {},
   "outputs": [],
   "source": [
    "## 100 percent solution on codility \n",
    "def solution(A):\n",
    "    return len(set([abs(x) for x in A]))\n",
    ""
   ]
  },
  {
   "cell_type": "code",
   "execution_count": null,
   "metadata": {},
   "outputs": [],
   "source": []
  },
  {
   "cell_type": "code",
   "execution_count": null,
   "metadata": {},
   "outputs": [],
   "source": []
  }
 ],
 "metadata": {
  "language_info": {
   "name": "python",
   "codemirror_mode": {
    "name": "ipython",
    "version": 3
   },
   "version": "3.6.10-final"
  },
  "orig_nbformat": 2,
  "file_extension": ".py",
  "mimetype": "text/x-python",
  "name": "python",
  "npconvert_exporter": "python",
  "pygments_lexer": "ipython3",
  "version": 3,
  "kernelspec": {
   "name": "python37364bitbaseconda1bf81766e72b469cb31e18e842f292ad",
   "display_name": "Python 3.7.3 64-bit ('base': conda)"
  }
 },
 "nbformat": 4,
 "nbformat_minor": 2
}