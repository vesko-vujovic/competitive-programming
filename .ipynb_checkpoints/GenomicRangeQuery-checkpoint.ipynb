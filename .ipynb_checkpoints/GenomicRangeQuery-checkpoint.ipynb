{
 "cells": [
  {
   "cell_type": "markdown",
   "metadata": {},
   "source": [
    "### GenomicRangeQuery"
   ]
  },
  {
   "cell_type": "code",
   "execution_count": 1,
   "metadata": {},
   "outputs": [],
   "source": [
    "P = [2, 5, 0]\n",
    "Q = [4,5,6]\n",
    "S = 'CAGCCTA'"
   ]
  },
  {
   "cell_type": "code",
   "execution_count": 9,
   "metadata": {},
   "outputs": [],
   "source": [
    "def solution(S, P, Q):\n",
    "    \n",
    "    res = []\n",
    "    length = len(P)\n",
    "    \n",
    "    for i in range(length):\n",
    "        part = (S[P[i]:Q[i]+1])\n",
    "        \n",
    "        if \"A\" in part:\n",
    "            res.append(1)\n",
    "        elif \"C\" in part:\n",
    "            res.append(2)\n",
    "        elif \"G\" in part:\n",
    "            res.append(3)\n",
    "        elif \"T\" in part:\n",
    "            res.append(4)\n",
    "     \n",
    "    return res\n",
    "            \n",
    "    "
   ]
  },
  {
   "cell_type": "code",
   "execution_count": 10,
   "metadata": {},
   "outputs": [
    {
     "output_type": "stream",
     "name": "stdout",
     "text": "GCC\nT\nCAGCCTA\n"
    }
   ],
   "source": [
    "solution = solution(S, P, Q)"
   ]
  },
  {
   "cell_type": "code",
   "execution_count": 11,
   "metadata": {},
   "outputs": [
    {
     "output_type": "execute_result",
     "data": {
      "text/plain": "[2, 4, 1]"
     },
     "metadata": {},
     "execution_count": 11
    }
   ],
   "source": [
    "solution"
   ]
  },
  {
   "cell_type": "code",
   "execution_count": null,
   "metadata": {},
   "outputs": [],
   "source": [
    "def so"
   ]
  },
  {
   "cell_type": "code",
   "execution_count": null,
   "metadata": {},
   "outputs": [],
   "source": []
  }
 ],
 "metadata": {
  "kernelspec": {
   "display_name": "Python 3",
   "language": "python",
   "name": "python3"
  },
  "language_info": {
   "codemirror_mode": {
    "name": "ipython",
    "version": 3
   },
   "file_extension": ".py",
   "mimetype": "text/x-python",
   "name": "python",
   "nbconvert_exporter": "python",
   "pygments_lexer": "ipython3",
   "version": "3.6.10-final"
  }
 },
 "nbformat": 4,
 "nbformat_minor": 4
}