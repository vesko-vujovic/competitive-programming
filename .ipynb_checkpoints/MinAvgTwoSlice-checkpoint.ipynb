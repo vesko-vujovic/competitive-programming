{
 "cells": [
  {
   "cell_type": "markdown",
   "metadata": {},
   "source": [
    "### MinAvgTwoSlice"
   ]
  },
  {
   "cell_type": "code",
   "execution_count": 1,
   "metadata": {},
   "outputs": [],
   "source": [
    "A = [4,0,2,5,1,5,8]"
   ]
  },
  {
   "cell_type": "code",
   "execution_count": null,
   "metadata": {},
   "outputs": [],
   "source": [
    "Solution to Min-Avg-Two-Slice by codilityPython\n",
    "\n",
    "def solution(A):\n",
    "    min_avg_value = (A[0] + A[1])/2.0   # The mininal average\n",
    "    min_avg_pos = 0     # The begin position of the first\n",
    "                        # slice with mininal average\n",
    "    for index in xrange(0, len(A)-2):\n",
    "        # Try the next 2-element slice\n",
    "        if (A[index] + A[index+1]) / 2.0 < min_avg_value:\n",
    "            min_avg_value = (A[index] + A[index+1]) / 2.0\n",
    "            min_avg_pos = index\n",
    "        # Try the next 3-element slice\n",
    "        if (A[index] + A[index+1] + A[index+2]) / 3.0 < min_avg_value:\n",
    "            min_avg_value = (A[index] + A[index+1] + A[index+2]) / 3.0\n",
    "            min_avg_pos = index\n",
    "    # Try the last 2-element slice\n",
    "    if (A[-1]+A[-2])/2.0 < min_avg_value:\n",
    "        min_avg_value = (A[-1]+A[-2])/2.0\n",
    "        min_avg_pos = len(A)-2\n",
    "    return min_avg_pos"
   ]
  },
  {
   "cell_type": "code",
   "execution_count": 5,
   "metadata": {},
   "outputs": [],
   "source": [
    "def solution(A):\n",
    "    min_avg     = (A[0] + A[1]) / 2.0\n",
    "    min_avg_pos = 0\n",
    "    lenght = len(A)\n",
    "    \n",
    "    \n",
    "    for i in range(0, lenght - 2):\n",
    "        \n",
    "        avg_of_two   = (A[i] + A[i+1]) / 2.0\n",
    "        avg_of_three = (A[i] + A[i+1] + A[i+2]) / 3.0\n",
    "        \n",
    "        if avg_of_two < min_avg:\n",
    "            min_avg = avg_of_two\n",
    "            min_avg_pos = i\n",
    "        \n",
    "        if avg_of_three < min_avg:\n",
    "            min_avg = avg_of_three\n",
    "            mina_avg_pos = i\n",
    "    \n",
    "    # we need to check last two elements\n",
    "    last_avg = (A[-2] + A[-1]) / 2\n",
    "    if last_avg < min_avg:\n",
    "        min_avg = last_avg\n",
    "        min_avg_pos = lenght - 2\n",
    "    \n",
    "    return min_avg\n",
    "        "
   ]
  },
  {
   "cell_type": "code",
   "execution_count": null,
   "metadata": {},
   "outputs": [],
   "source": []
  },
  {
   "cell_type": "code",
   "execution_count": null,
   "metadata": {},
   "outputs": [],
   "source": []
  }
 ],
 "metadata": {
  "kernelspec": {
   "display_name": "Python 3",
   "language": "python",
   "name": "python3"
  },
  "language_info": {
   "codemirror_mode": {
    "name": "ipython",
    "version": 3
   },
   "file_extension": ".py",
   "mimetype": "text/x-python",
   "name": "python",
   "nbconvert_exporter": "python",
   "pygments_lexer": "ipython3",
   "version": "3.7.6"
  }
 },
 "nbformat": 4,
 "nbformat_minor": 4
}
