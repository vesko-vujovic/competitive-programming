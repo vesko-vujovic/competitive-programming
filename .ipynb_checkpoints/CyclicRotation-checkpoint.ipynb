{
 "cells": [
  {
   "cell_type": "code",
   "execution_count": 1,
   "metadata": {},
   "outputs": [],
   "source": [
    "def solution(A, K):\n",
    "    \n",
    "    item_length = len(A)\n",
    "    \n",
    "    if item_length == 0: return []\n",
    "    count = 0\n",
    "    \n",
    "    for i in range(len(A)):\n",
    "        prev_item = item_length - 1 - i - 1\n",
    "        end       = k - i - 1\n",
    "        \n",
    "        count += 1\n",
    "        \n",
    "        if(count > K): break\n",
    "        \n",
    "        A[i]   = A[]\n",
    "        A[i]   = A[end]\n",
    "        A[end] = A[prev_item]\n",
    "        \n",
    "        \n",
    "    return A"
   ]
  },
  {
   "cell_type": "code",
   "execution_count": 2,
   "metadata": {},
   "outputs": [
    {
     "name": "stdout",
     "output_type": "stream",
     "text": [
      "[7, 8, 9, 3, 6]\n",
      "[7, 6, 9, 3, 8]\n"
     ]
    }
   ],
   "source": [
    "items = [3, 8, 9, 7, 6]\n",
    "\n",
    "# expected [9,7,6,3,8]\n",
    "\n",
    "test_solution = solution(items, 2)"
   ]
  },
  {
   "cell_type": "code",
   "execution_count": 3,
   "metadata": {},
   "outputs": [
    {
     "data": {
      "text/plain": [
       "[7, 6, 9, 3, 8]"
      ]
     },
     "execution_count": 3,
     "metadata": {},
     "output_type": "execute_result"
    }
   ],
   "source": [
    "test_solution"
   ]
  },
  {
   "cell_type": "code",
   "execution_count": null,
   "metadata": {},
   "outputs": [],
   "source": []
  },
  {
   "cell_type": "code",
   "execution_count": null,
   "metadata": {},
   "outputs": [],
   "source": []
  },
  {
   "cell_type": "code",
   "execution_count": null,
   "metadata": {},
   "outputs": [],
   "source": []
  },
  {
   "cell_type": "code",
   "execution_count": null,
   "metadata": {},
   "outputs": [],
   "source": []
  }
 ],
 "metadata": {
  "kernelspec": {
   "display_name": "Python 3",
   "language": "python",
   "name": "python3"
  },
  "language_info": {
   "codemirror_mode": {
    "name": "ipython",
    "version": 3
   },
   "file_extension": ".py",
   "mimetype": "text/x-python",
   "name": "python",
   "nbconvert_exporter": "python",
   "pygments_lexer": "ipython3",
   "version": "3.7.6"
  }
 },
 "nbformat": 4,
 "nbformat_minor": 4
}
