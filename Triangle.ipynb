{
 "cells": [
  {
   "cell_type": "code",
   "execution_count": 23,
   "metadata": {},
   "outputs": [],
   "source": [
    "A = [10,2,5,1,8,20]"
   ]
  },
  {
   "cell_type": "code",
   "execution_count": 24,
   "metadata": {},
   "outputs": [],
   "source": [
    "def solution(A):\n",
    "    length = len(A)\n",
    "\n",
    "    if length < 3:\n",
    "        return 0\n",
    "    \n",
    "    A.sort()\n",
    "    \n",
    "    for i in range(0, length - 2):\n",
    "        if A[i] + A[i+1] > A[i+2]:\n",
    "            return 1 \n",
    "\n",
    "    return 0"
   ]
  },
  {
   "cell_type": "code",
   "execution_count": 25,
   "metadata": {},
   "outputs": [],
   "source": [
    "solution = solution(A)"
   ]
  },
  {
   "cell_type": "code",
   "execution_count": 26,
   "metadata": {},
   "outputs": [
    {
     "data": {
      "text/plain": "1"
     },
     "execution_count": 26,
     "metadata": {},
     "output_type": "execute_result"
    }
   ],
   "source": [
    "solution"
   ]
  },
  {
   "cell_type": "code",
   "execution_count": null,
   "metadata": {},
   "outputs": [],
   "source": [
    "# When we sort array we have guarnited that P+R > Q and    Q + R > P, SO the only thing we need to prove is  P+Q > R\n",
    "# When you sort array you have inverted the array meaning that P will be always on A[i] position\n",
    "def solution2(A):\n",
    "    if len(A) < 3:\n",
    "        raise Exception(\"invalid input\")\n",
    " \n",
    "    A.sort()\n",
    "     \n",
    "    for i in range(len(A)-2):\n",
    "        if A[i] + A[i+1] > A[i+2]:\n",
    "            return 1\n",
    "             \n",
    "    return 0"
   ]
  }
 ],
 "metadata": {
  "language_info": {
   "name": "python",
   "codemirror_mode": {
    "name": "ipython",
    "version": 3
   },
   "version": "3.7.3-final"
  },
  "orig_nbformat": 2,
  "file_extension": ".py",
  "mimetype": "text/x-python",
  "name": "python",
  "npconvert_exporter": "python",
  "pygments_lexer": "ipython3",
  "version": 3,
  "kernelspec": {
   "name": "python37364bitbaseconda1bf81766e72b469cb31e18e842f292ad",
   "display_name": "Python 3.7.3 64-bit ('base': conda)"
  }
 },
 "nbformat": 4,
 "nbformat_minor": 2
}