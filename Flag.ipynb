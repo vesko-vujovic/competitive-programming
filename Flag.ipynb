{
 "nbformat": 4,
 "nbformat_minor": 2,
 "metadata": {
  "language_info": {
   "name": "python",
   "codemirror_mode": {
    "name": "ipython",
    "version": 3
   },
   "version": "3.7.3-final"
  },
  "orig_nbformat": 2,
  "file_extension": ".py",
  "mimetype": "text/x-python",
  "name": "python",
  "npconvert_exporter": "python",
  "pygments_lexer": "ipython3",
  "version": 3,
  "kernelspec": {
   "name": "python37364bitbaseconda1bf81766e72b469cb31e18e842f292ad",
   "display_name": "Python 3.7.3 64-bit ('base': conda)"
  }
 },
 "cells": [
  {
   "cell_type": "code",
   "execution_count": 18,
   "metadata": {},
   "outputs": [],
   "source": [
    "# bisection problem \n",
    "A = [1,5,3,4,3,4,1,2,3,4,6,2]"
   ]
  },
  {
   "cell_type": "code",
   "execution_count": 19,
   "metadata": {},
   "outputs": [],
   "source": [
    "def create_peaks(A):\n",
    "    N = len(A)\n",
    "    peaks = [False] * N\n",
    "\n",
    "    for i in  range(1, N - 1):\n",
    "        if A[i] > max(A[i-1], A[i+1]):\n",
    "            peaks[i] = True\n",
    "    \n",
    "    return peaks\n"
   ]
  },
  {
   "cell_type": "code",
   "execution_count": 20,
   "metadata": {},
   "outputs": [],
   "source": [
    "def check(x, A):\n",
    "    N = len(A)\n",
    "    peaks = create_peaks(A)\n",
    "    flags = x\n",
    "    pos = 0\n",
    "\n",
    "    while pos < N and flags > 0:\n",
    "        if peaks[pos]:\n",
    "            flags -= 1\n",
    "            pos += x\n",
    "        else:\n",
    "            pos += 1\n",
    "            \n",
    "    return flags == 0"
   ]
  },
  {
   "cell_type": "code",
   "execution_count": 26,
   "metadata": {},
   "outputs": [],
   "source": [
    "# Golden solution \n",
    "def next_peak(A):\n",
    "    N = len(A)\n",
    "    peaks = create_peaks(A)\n",
    "    next  = [0] * N\n",
    "    next[N - 1] = -1\n",
    "\n",
    "\n",
    "    for i in range(N - 2, -1, -1):\n",
    "\n",
    "        if peaks[i]:\n",
    "            next[i] = i\n",
    "        else:\n",
    "            next[i] = next[i + 1]\n",
    "            \n",
    "    return next\n"
   ]
  },
  {
   "cell_type": "code",
   "execution_count": 39,
   "metadata": {},
   "outputs": [],
   "source": [
    "def flags(A):\n",
    "    N = len(A)\n",
    "    next = next_peak(A)\n",
    "\n",
    "    i = 1\n",
    "    result = 0\n",
    "\n",
    "    while (i - 1) * i <= N:\n",
    "        pos = 0\n",
    "        num = 0\n",
    "\n",
    "        while pos < N and num < i:\n",
    "\n",
    "            pos = next[pos]\n",
    "            if pos == -1:\n",
    "                break\n",
    "            \n",
    "            num += 1\n",
    "            pos += i\n",
    "            print(i, pos)\n",
    "\n",
    "        result = max(result, num)\n",
    "        i += 1\n",
    "\n",
    "    return result \n",
    "\n"
   ]
  },
  {
   "cell_type": "code",
   "execution_count": 40,
   "metadata": {},
   "outputs": [
    {
     "name": "stdout",
     "output_type": "stream",
     "text": "1 2\n2 3\n2 5\n3 4\n3 8\n3 13\n4 5\n4 9\n4 14\n"
    },
    {
     "data": {
      "text/plain": "3"
     },
     "execution_count": 40,
     "metadata": {},
     "output_type": "execute_result"
    }
   ],
   "source": [
    "flags(A)"
   ]
  },
  {
   "cell_type": "code",
   "execution_count": null,
   "metadata": {},
   "outputs": [],
   "source": []
  }
 ]
}