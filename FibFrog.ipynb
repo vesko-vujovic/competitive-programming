{
 "cells": [
  {
   "cell_type": "code",
   "execution_count": 31,
   "metadata": {},
   "outputs": [],
   "source": [
    "A = [0,0,0,1,1,0,1,0,0,0,0]\n",
    "N = 100000"
   ]
  },
  {
   "cell_type": "code",
   "execution_count": 32,
   "metadata": {},
   "outputs": [],
   "source": [
    "def get_fib_seq_up_to_n(N):\n",
    "    # there are 26 numbers smaller than 100k\n",
    "    fib = [0] * (27)\n",
    "    fib[1] = 1\n",
    "    for i in range(2, 27):\n",
    "        fib[i] = fib[i - 1] + fib[i - 2]\n",
    "        if fib[i] > N:\n",
    "            return fib[2:i]\n",
    "        else:\n",
    "            last_valid = i"
   ]
  },
  {
   "cell_type": "code",
   "execution_count": 46,
   "metadata": {},
   "outputs": [],
   "source": [
    "# TO EXPLAIN MORE\n",
    "def solution(A):\n",
    "    # you can always step on the other shore, this simplifies the algorithm\n",
    "    A.append(1)\n",
    " \n",
    "    fib_set = get_fib_seq_up_to_n(len(A))\n",
    "   \n",
    "    # this array will hold the optimal jump count that reaches this index\n",
    "    reachable = [-1] * (len(A))\n",
    "    \n",
    "    # get the leafs that can be reached from the starting shore\n",
    "    # here we check if we have match(fin bumber with A[i] position) with A array --> jump - 1 is because the array is zero indexed\n",
    "    for jump in fib_set:\n",
    "        if A[jump-1] == 1:\n",
    "            reachable[jump-1] = 1\n",
    "     \n",
    "    # iterate all the positions until you reach the other shore\n",
    "    for idx in range(len(A)):\n",
    "\n",
    "        # ignore non-leafs and already found paths\n",
    "        # here we skip \n",
    "        if A[idx] == 0 or reachable[idx] > 0:\n",
    "            continue\n",
    " \n",
    "        # get the optimal jump count to reach this leaf\n",
    "        min_idx   = -1\n",
    "        min_value = 100000\n",
    "\n",
    "        for jump in fib_set:\n",
    "\n",
    "            previous_idx = idx - jump\n",
    "            print(previous_idx)\n",
    "\n",
    "            if previous_idx < 0:\n",
    "                break\n",
    "            if reachable[previous_idx] > 0 and min_value > reachable[previous_idx]:\n",
    "                min_value = reachable[previous_idx]\n",
    "                min_idx = previous_idx\n",
    "        if min_idx != -1:\n",
    "            reachable[idx] = min_value +1\n",
    " \n",
    "    return reachable[len(A)-1]"
   ]
  },
  {
   "cell_type": "code",
   "execution_count": 47,
   "metadata": {},
   "outputs": [
    {
     "output_type": "stream",
     "name": "stdout",
     "text": "2\n1\n0\n-2\n5\n4\n3\n1\n-2\n10\n9\n8\n6\n3\n-2\n12\n11\n10\n8\n5\n0\n13\n12\n11\n9\n6\n1\n14\n13\n12\n10\n7\n2\n15\n14\n13\n11\n8\n3\n16\n15\n14\n12\n9\n4\n"
    }
   ],
   "source": [
    "solution = solution(A)"
   ]
  },
  {
   "cell_type": "code",
   "execution_count": 45,
   "metadata": {},
   "outputs": [
    {
     "output_type": "execute_result",
     "data": {
      "text/plain": "3"
     },
     "metadata": {},
     "execution_count": 45
    }
   ],
   "source": [
    "solution"
   ]
  },
  {
   "cell_type": "code",
   "execution_count": null,
   "metadata": {},
   "outputs": [],
   "source": []
  }
 ],
 "metadata": {
  "language_info": {
   "codemirror_mode": {
    "name": "ipython",
    "version": 3
   },
   "file_extension": ".py",
   "mimetype": "text/x-python",
   "name": "python",
   "nbconvert_exporter": "python",
   "pygments_lexer": "ipython3",
   "version": "3.6.10-final"
  },
  "orig_nbformat": 2,
  "kernelspec": {
   "name": "python37364bitbaseconda1bf81766e72b469cb31e18e842f292ad",
   "display_name": "Python 3.7.3 64-bit ('base': conda)"
  }
 },
 "nbformat": 4,
 "nbformat_minor": 2
}