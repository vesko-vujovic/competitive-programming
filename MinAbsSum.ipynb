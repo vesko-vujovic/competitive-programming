{
 "cells": [
  {
   "cell_type": "code",
   "execution_count": 1,
   "metadata": {},
   "outputs": [],
   "source": [
    "A = [1,5,2,-2]"
   ]
  },
  {
   "cell_type": "code",
   "execution_count": 55,
   "metadata": {},
   "outputs": [],
   "source": [
    "def solution(A):\n",
    "\n",
    "    A = [abs(item) for item in A]\n",
    "\n",
    "    sum_of_A = sum(A)\n",
    "    numbers = {}\n",
    "\n",
    "    #count the occurences of the number\n",
    "    for item in A: numbers[item] = numbers.get(item, 0) + 1\n",
    "\n",
    "    possible     = [-1] * (sum_of_A // 2 + 1)\n",
    "    possible[0]  = 0\n",
    "\n",
    "    for number in numbers:\n",
    "        for trying in range(sum_of_A // 2 + 1):\n",
    "            \n",
    "            if possible[trying] >= 0:\n",
    "                possible[trying] = numbers[number]\n",
    "            elif trying >= number and possible[try]\n",
    "\n",
    "\n",
    "\n"
   ]
  },
  {
   "cell_type": "code",
   "execution_count": 56,
   "metadata": {},
   "outputs": [
    {
     "output_type": "stream",
     "name": "stdout",
     "text": "0 1\n1 1\n2 1\n3 1\n4 1\n5 1\n0 5\n1 5\n2 5\n3 5\n4 5\n5 5\n0 2\n1 2\n2 2\n3 2\n4 2\n5 2\n"
    }
   ],
   "source": [
    "    solution = solution(A)"
   ]
  },
  {
   "cell_type": "code",
   "execution_count": null,
   "metadata": {},
   "outputs": [],
   "source": []
  }
 ],
 "metadata": {
  "language_info": {
   "codemirror_mode": {
    "name": "ipython",
    "version": 3
   },
   "file_extension": ".py",
   "mimetype": "text/x-python",
   "name": "python",
   "nbconvert_exporter": "python",
   "pygments_lexer": "ipython3",
   "version": "3.6.10-final"
  },
  "orig_nbformat": 2,
  "kernelspec": {
   "name": "python37364bitbaseconda1bf81766e72b469cb31e18e842f292ad",
   "display_name": "Python 3.7.3 64-bit ('base': conda)"
  }
 },
 "nbformat": 4,
 "nbformat_minor": 2
}