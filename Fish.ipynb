{
 "cells": [
  {
   "cell_type": "code",
   "execution_count": 2,
   "metadata": {},
   "outputs": [],
   "source": [
    "A = [4,3,2,1,5]\n",
    "B = [0,1,0,0,0]"
   ]
  },
  {
   "cell_type": "code",
   "execution_count": 40,
   "metadata": {},
   "outputs": [],
   "source": [
    "def solution(A, B):\n",
    "    survivals = 0\n",
    "    stack = []\n",
    "     \n",
    "    for idx in range(len(A)):\n",
    "        if B[idx] == 0:\n",
    "            while len(stack) != 0:\n",
    "                print(stack[-1],A[idx])\n",
    "                if stack[-1] > A[idx]:\n",
    "                    break\n",
    "                else:\n",
    "                    stack.pop()\n",
    "                         \n",
    "            else:\n",
    "                survivals += 1\n",
    "        else:\n",
    "            stack.append(A[idx])\n",
    "             \n",
    "    survivals += len(stack)\n",
    "     \n",
    "    return survivals"
   ]
  },
  {
   "cell_type": "code",
   "execution_count": 41,
   "metadata": {},
   "outputs": [
    {
     "output_type": "stream",
     "name": "stdout",
     "text": "3 2\n3 1\n3 5\n"
    }
   ],
   "source": [
    "solution = solution(A, B)"
   ]
  },
  {
   "cell_type": "code",
   "execution_count": 42,
   "metadata": {},
   "outputs": [
    {
     "output_type": "execute_result",
     "data": {
      "text/plain": "2"
     },
     "metadata": {},
     "execution_count": 42
    }
   ],
   "source": [
    "solution"
   ]
  },
  {
   "cell_type": "code",
   "execution_count": 34,
   "metadata": {},
   "outputs": [],
   "source": [
    "# 25 percent on codility  \n",
    "def solution2(A, B):\n",
    "\n",
    "    surv =  len(A)\n",
    "    stack = []\n",
    "\n",
    "    for i in range(len(A)):\n",
    "        \n",
    "        if B[i] == 1:\n",
    "            stack.append(A[i])\n",
    "        else:\n",
    "\n",
    "            if len(stack) == 0:\n",
    "                surv -= 1\n",
    "            \n",
    "            if(len(stack) > 0 and stack[-1] > A[i]):\n",
    "                surv -= 1\n",
    "            else:\n",
    "                if(len(stack)> 0 and stack[-1] < A[i]):\n",
    "                    break\n",
    "\n",
    "    return surv\n",
    "\n"
   ]
  },
  {
   "cell_type": "code",
   "execution_count": 35,
   "metadata": {},
   "outputs": [],
   "source": [
    "sol = solution2(A, B)"
   ]
  },
  {
   "cell_type": "code",
   "execution_count": 36,
   "metadata": {},
   "outputs": [
    {
     "output_type": "execute_result",
     "data": {
      "text/plain": "2"
     },
     "metadata": {},
     "execution_count": 36
    }
   ],
   "source": [
    "sol"
   ]
  },
  {
   "cell_type": "code",
   "execution_count": null,
   "metadata": {},
   "outputs": [],
   "source": []
  }
 ],
 "metadata": {
  "language_info": {
   "name": "python",
   "codemirror_mode": {
    "name": "ipython",
    "version": 3
   },
   "version": "3.6.10-final"
  },
  "orig_nbformat": 2,
  "file_extension": ".py",
  "mimetype": "text/x-python",
  "name": "python",
  "npconvert_exporter": "python",
  "pygments_lexer": "ipython3",
  "version": 3,
  "kernelspec": {
   "name": "python37364bitbaseconda1bf81766e72b469cb31e18e842f292ad",
   "display_name": "Python 3.7.3 64-bit ('base': conda)"
  }
 },
 "nbformat": 4,
 "nbformat_minor": 2
}