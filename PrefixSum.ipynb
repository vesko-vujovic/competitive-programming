{
 "cells": [
  {
   "cell_type": "markdown",
   "metadata": {},
   "source": [
    "### CountDiv"
   ]
  },
  {
   "cell_type": "code",
   "execution_count": 15,
   "metadata": {},
   "outputs": [],
   "source": [
    "A = [2,3,7,5,1,3,-9]\n",
    "k = 6\n",
    "m = len(A)"
   ]
  },
  {
   "cell_type": "code",
   "execution_count": 32,
   "metadata": {},
   "outputs": [],
   "source": [
    "def prefix_sums(A):\n",
    "    n = len(A)\n",
    "    P = [0] * (n + 1)\n",
    "    \n",
    "    for k in range(1, n + 1):\n",
    "         P[k] = P[k - 1] + A[k - 1]\n",
    "            \n",
    "    return P"
   ]
  },
  {
   "cell_type": "code",
   "execution_count": 88,
   "metadata": {},
   "outputs": [],
   "source": [
    "def count_total(P, x, y):\n",
    "    return P[y + 1] - P[x]"
   ]
  },
  {
   "cell_type": "code",
   "execution_count": 95,
   "metadata": {},
   "outputs": [],
   "source": [
    "def mushrooms(A, k, m):\n",
    "    \n",
    "    n = len(A)\n",
    "    result = 0\n",
    "    pref = prefix_sums(A)\n",
    "\n",
    "    \n",
    "    for p in range(min(m, k) + 1):\n",
    "        left_pos = k - p\n",
    "        \n",
    "        right_pos = min(n - 1, max(k, k + m - 2 * p))\n",
    "        result = max(result, count_total(pref, left_pos, right_pos))\n",
    "\n",
    "    \n",
    "    for p in range(min(m + 1, n - k)):\n",
    "        right_pos = k + p\n",
    "        left_pos = max(0, min(k, k - (m - 2 * p)))\n",
    "    \n",
    "        result = max(result, count_total(pref, left_pos, right_pos))\n",
    "        \n",
    "    \n",
    "    return result"
   ]
  },
  {
   "cell_type": "code",
   "execution_count": 96,
   "metadata": {},
   "outputs": [
    {
     "name": "stdout",
     "output_type": "stream",
     "text": [
      "6 6\n",
      "6 5\n",
      "6 4\n",
      "6 3\n",
      "6 2\n",
      "6 1\n",
      "6 0\n",
      "6 0\n"
     ]
    }
   ],
   "source": [
    "solution = mushrooms(A, k, m)"
   ]
  },
  {
   "cell_type": "code",
   "execution_count": 16,
   "metadata": {},
   "outputs": [],
   "source": [
    "def quadratic_max_slice(A):\n",
    "    n      = len(A)\n",
    "    result = 0\n",
    "\n",
    "    for p in range(n):\n",
    "        print(p)\n",
    "        print(\"----p-----\")\n",
    "        sum = 0\n",
    "        for q in range(p, n):\n",
    "            print(q)\n",
    "            print(\"-----q-----\")\n",
    "            sum += A[q]\n",
    "            result = max(result, sum)\n",
    "\n",
    "    return result"
   ]
  },
  {
   "cell_type": "code",
   "execution_count": 17,
   "metadata": {},
   "outputs": [
    {
     "output_type": "stream",
     "name": "stdout",
     "text": "0\n----p-----\n0\n-----q-----\n1\n-----q-----\n2\n-----q-----\n3\n-----q-----\n4\n-----q-----\n5\n-----q-----\n6\n-----q-----\n1\n----p-----\n1\n-----q-----\n2\n-----q-----\n3\n-----q-----\n4\n-----q-----\n5\n-----q-----\n6\n-----q-----\n2\n----p-----\n2\n-----q-----\n3\n-----q-----\n4\n-----q-----\n5\n-----q-----\n6\n-----q-----\n3\n----p-----\n3\n-----q-----\n4\n-----q-----\n5\n-----q-----\n6\n-----q-----\n4\n----p-----\n4\n-----q-----\n5\n-----q-----\n6\n-----q-----\n5\n----p-----\n5\n-----q-----\n6\n-----q-----\n6\n----p-----\n6\n-----q-----\n"
    }
   ],
   "source": [
    "s = quadratic_max_slice(A)"
   ]
  },
  {
   "cell_type": "code",
   "execution_count": 18,
   "metadata": {},
   "outputs": [
    {
     "output_type": "execute_result",
     "data": {
      "text/plain": "21"
     },
     "metadata": {},
     "execution_count": 18
    }
   ],
   "source": [
    "s"
   ]
  },
  {
   "cell_type": "code",
   "execution_count": 19,
   "metadata": {},
   "outputs": [],
   "source": [
    "def golden_max_slice(A):\n",
    "    \n",
    "    max_ending = max_slice = 0\n",
    "\n",
    "    for a in A:\n",
    "        max_ending = max(0, max_ending + a)\n",
    "        max_slice = max(max_slice, max_ending)\n",
    "    return max_slice"
   ]
  },
  {
   "cell_type": "code",
   "execution_count": 20,
   "metadata": {},
   "outputs": [],
   "source": [
    "cc = golden_max_slice(A)"
   ]
  },
  {
   "cell_type": "code",
   "execution_count": 21,
   "metadata": {},
   "outputs": [
    {
     "output_type": "execute_result",
     "data": {
      "text/plain": "21"
     },
     "metadata": {},
     "execution_count": 21
    }
   ],
   "source": [
    "cc"
   ]
  },
  {
   "cell_type": "code",
   "execution_count": null,
   "metadata": {},
   "outputs": [],
   "source": []
  }
 ],
 "metadata": {
  "kernelspec": {
   "display_name": "Python 3",
   "language": "python",
   "name": "python3"
  },
  "language_info": {
   "codemirror_mode": {
    "name": "ipython",
    "version": 3
   },
   "file_extension": ".py",
   "mimetype": "text/x-python",
   "name": "python",
   "nbconvert_exporter": "python",
   "pygments_lexer": "ipython3",
   "version": "3.6.10-final"
  }
 },
 "nbformat": 4,
 "nbformat_minor": 4
}