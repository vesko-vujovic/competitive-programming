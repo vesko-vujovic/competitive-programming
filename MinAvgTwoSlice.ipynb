{
 "cells": [
  {
   "cell_type": "markdown",
   "metadata": {},
   "source": [
    "### MinAvgTwoSlice"
   ]
  },
  {
   "cell_type": "code",
   "execution_count": 1,
   "metadata": {},
   "outputs": [],
   "source": [
    "A = [-3, -5, -8, -4, -10]"
   ]
  },
  {
   "cell_type": "code",
   "execution_count": 2,
   "metadata": {},
   "outputs": [],
   "source": [
    "def solution(A):\n",
    "    min_avg     = (A[0] + A[1]) / 2.0\n",
    "    min_avg_pos = 0\n",
    "    lenght = len(A)\n",
    "    \n",
    "    for i in range(0, lenght - 2):\n",
    "        \n",
    "        avg_of_two   = (A[i] + A[i+1]) / 2.0\n",
    "        avg_of_three = (A[i] + A[i+1] + A[i+2]) / 3.0\n",
    "        \n",
    "        if avg_of_two < min_avg:\n",
    "            min_avg = avg_of_two\n",
    "            min_avg_pos = i\n",
    "        \n",
    "        if avg_of_three < min_avg:\n",
    "            min_avg = avg_of_three\n",
    "            min_avg_pos = i\n",
    "    \n",
    "    # we need to check last two elements\n",
    "    last_avg = (A[-2] + A[-1]) / 2\n",
    "\n",
    "   \n",
    "    if last_avg < min_avg:\n",
    "        \n",
    "        min_avg = last_avg\n",
    "        min_avg_pos = lenght - 2\n",
    "    \n",
    "    return min_avg_pos\n",
    "        "
   ]
  },
  {
   "cell_type": "code",
   "execution_count": 3,
   "metadata": {},
   "outputs": [
    {
     "output_type": "stream",
     "name": "stdout",
     "text": "-4.0 -4.0 False\n-5.333333333333333 -4.0 True\n-6.5 -5.333333333333333 True\n-5.666666666666667 -5.333333333333333 True\n-6.0 -6.5 False\n-7.333333333333333 -6.5 True\n"
    }
   ],
   "source": [
    "solution = solution(A)"
   ]
  },
  {
   "cell_type": "code",
   "execution_count": 4,
   "metadata": {},
   "outputs": [
    {
     "output_type": "stream",
     "name": "stdout",
     "text": "2\n"
    }
   ],
   "source": [
    "print(solution)"
   ]
  },
  {
   "cell_type": "code",
   "execution_count": null,
   "metadata": {},
   "outputs": [],
   "source": []
  }
 ],
 "metadata": {
  "kernelspec": {
   "display_name": "Python 3",
   "language": "python",
   "name": "python3"
  },
  "language_info": {
   "codemirror_mode": {
    "name": "ipython",
    "version": 3
   },
   "file_extension": ".py",
   "mimetype": "text/x-python",
   "name": "python",
   "nbconvert_exporter": "python",
   "pygments_lexer": "ipython3",
   "version": "3.7.3-final"
  }
 },
 "nbformat": 4,
 "nbformat_minor": 4
}