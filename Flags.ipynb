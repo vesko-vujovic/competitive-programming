{
 "cells": [
  {
   "cell_type": "code",
   "execution_count": 3,
   "metadata": {},
   "outputs": [],
   "source": [
    "# Fast solution\n",
    "A = [1,5,3,4,3,4,1,2,3,4,6,2]"
   ]
  },
  {
   "cell_type": "code",
   "execution_count": 4,
   "metadata": {},
   "outputs": [],
   "source": [
    "# Here we check where we can set the flag on the array\n",
    "# The trick here is when we  find frst position for the flag next will we at minimum  pos + number_of_flags\n",
    "# If that is not the case then we increment pos by 1 and on the next position we can find the flag\n",
    "# Because to be able to set a flag distance beetween indexes shuld be >= then number of flags\n",
    "# Meaning that if number_of_flags = 3  the distance where peak is located and where flag can be set must be greater or equal then 3\n",
    "\n",
    "def create_peaks(A):\n",
    "    N = len(A)\n",
    "    peaks = [False] * N\n",
    "\n",
    "    for i in range(1, N - 1):\n",
    "\n",
    "        if A[i] > max(A[i-1], A[i + 1]):\n",
    "            peaks[i] = True\n",
    "    \n",
    "    return peaks"
   ]
  },
  {
   "cell_type": "code",
   "execution_count": 5,
   "metadata": {},
   "outputs": [],
   "source": [
    "def check(x, A):\n",
    "    N = len(A)\n",
    "    peaks = create_peaks(A)\n",
    "    flags = x\n",
    "    pos   = 0\n",
    "\n",
    "    while pos < N and flags > 0:\n",
    "        if peaks[pos]:\n",
    "            flags -= 1\n",
    "            pos += x\n",
    "        else:\n",
    "            pos += 1\n",
    "\n",
    "    return flags == 0\n",
    ""
   ]
  },
  {
   "cell_type": "code",
   "execution_count": 6,
   "metadata": {},
   "outputs": [],
   "source": [
    "solution = check(2, A)"
   ]
  },
  {
   "cell_type": "code",
   "execution_count": 7,
   "metadata": {},
   "outputs": [
    {
     "output_type": "execute_result",
     "data": {
      "text/plain": "True"
     },
     "metadata": {},
     "execution_count": 7
    }
   ],
   "source": [
    "solution"
   ]
  },
  {
   "cell_type": "code",
   "execution_count": 8,
   "metadata": {},
   "outputs": [],
   "source": [
    "# This is as they say golden solutuon\n",
    "def next_peak(A):\n",
    "    N = len(A)\n",
    "    peaks = create_peaks(A)\n",
    "\n",
    "    next = [0] * N\n",
    "    next[N - 1] = -1\n",
    "\n",
    "    for i in range(N - 2, -1, -1):\n",
    "        if peaks[i]:\n",
    "            next[i] = i\n",
    "        else:\n",
    "            next[i] = next[i + 1]\n",
    "    return next\n"
   ]
  },
  {
   "cell_type": "code",
   "execution_count": 12,
   "metadata": {},
   "outputs": [],
   "source": [
    "# Here we cannot take more then square root of N items of array\n",
    "# So (i - 1) * i < N means if we have 12 elements maximum number of flags is 4\n",
    "# And next element where we can put flag is  pos + i --> second while loop\n",
    "# Notice that for every index i we cannot take more than i flags and set more than N / i + 1 flags.\n",
    "# So if you have 12 elemnts and i is 4 maximum number of flags would be 4\n",
    "\n",
    "# Here we must notice that every composite number has at least square root of n divisors 12 has 4 divisors\n",
    "# 2,3,4,6\n",
    "\n",
    "def flags(A):\n",
    "    N = len(A)\n",
    "    next = next_peak(A)\n",
    "\n",
    "    print(next)\n",
    "    i = 1\n",
    "    result = 0\n",
    "    while (i - 1) * i <= N:\n",
    "        pos = 0\n",
    "        num = 0\n",
    "        print(i)\n",
    "        while pos < N and num < i:\n",
    "            pos = next[pos]\n",
    "            if pos == -1:\n",
    "                break\n",
    "            num += 1\n",
    "            pos += i\n",
    "\n",
    "            print(\"print pos\", pos)\n",
    "            print(\"print num\", num)\n",
    "\n",
    "        result = max(result, num)\n",
    "        i += 1\n",
    "\n",
    "    return result\n",
    "\n",
    "\n"
   ]
  },
  {
   "cell_type": "code",
   "execution_count": 13,
   "metadata": {},
   "outputs": [
    {
     "output_type": "stream",
     "name": "stdout",
     "text": "[1, 1, 3, 3, 5, 5, 10, 10, 10, 10, 10, -1]\n1\n0\nprint pos 2\nprint num 1\n2\n0\nprint pos 3\nprint num 1\n3\nprint pos 5\nprint num 2\n3\n0\nprint pos 4\nprint num 1\n4\nprint pos 8\nprint num 2\n8\nprint pos 13\nprint num 3\n4\n0\nprint pos 5\nprint num 1\n5\nprint pos 9\nprint num 2\n9\nprint pos 14\nprint num 3\n"
    }
   ],
   "source": [
    "golden_solution = flags(A)"
   ]
  },
  {
   "cell_type": "code",
   "execution_count": 16,
   "metadata": {},
   "outputs": [
    {
     "output_type": "execute_result",
     "data": {
      "text/plain": "3"
     },
     "metadata": {},
     "execution_count": 16
    }
   ],
   "source": [
    "golden_solution"
   ]
  },
  {
   "cell_type": "code",
   "execution_count": null,
   "metadata": {},
   "outputs": [],
   "source": []
  }
 ],
 "metadata": {
  "language_info": {
   "name": "python",
   "codemirror_mode": {
    "name": "ipython",
    "version": 3
   },
   "version": "3.6.10-final"
  },
  "orig_nbformat": 2,
  "file_extension": ".py",
  "mimetype": "text/x-python",
  "name": "python",
  "npconvert_exporter": "python",
  "pygments_lexer": "ipython3",
  "version": 3,
  "kernelspec": {
   "name": "python37364bitbaseconda1bf81766e72b469cb31e18e842f292ad",
   "display_name": "Python 3.7.3 64-bit ('base': conda)"
  }
 },
 "nbformat": 4,
 "nbformat_minor": 2
}