{
 "cells": [
  {
   "cell_type": "code",
   "execution_count": 7,
   "metadata": {},
   "outputs": [],
   "source": [
    "A = [3,4,5,5,2]\n",
    "M = 6"
   ]
  },
  {
   "cell_type": "code",
   "execution_count": 8,
   "metadata": {},
   "outputs": [],
   "source": [
    "def solution(M, A):\n",
    "    the_sum = 0\n",
    "    front = back = 0\n",
    "    seen = [False] * (M+1)\n",
    "\n",
    "    while (front < len(A) and back < len(A)):\n",
    "        while (front < len(A) and seen[A[front]] != True):\n",
    "            the_sum += (front-back+1)\n",
    "            seen[A[front]] = True\n",
    "            front += 1\n",
    "        else:\n",
    "            while front < len(A) and back < len(A) and A[back] != A[front]:\n",
    "                seen[A[back]] = False\n",
    "                back += 1\n",
    "                 \n",
    "            seen[A[back]] = False\n",
    "            back += 1\n",
    "             \n",
    "                 \n",
    "    return min(the_sum, 1000000000)  "
   ]
  },
  {
   "cell_type": "code",
   "execution_count": 9,
   "metadata": {},
   "outputs": [
    {
     "output_type": "stream",
     "name": "stdout",
     "text": "0 0\n1 0\n2 0\n3 3\n4 3\n"
    }
   ],
   "source": [
    "sol = solution(M, A)"
   ]
  },
  {
   "cell_type": "code",
   "execution_count": null,
   "metadata": {},
   "outputs": [],
   "source": []
  }
 ],
 "metadata": {
  "language_info": {
   "name": "python",
   "codemirror_mode": {
    "name": "ipython",
    "version": 3
   },
   "version": "3.6.10-final"
  },
  "orig_nbformat": 2,
  "file_extension": ".py",
  "mimetype": "text/x-python",
  "name": "python",
  "npconvert_exporter": "python",
  "pygments_lexer": "ipython3",
  "version": 3,
  "kernelspec": {
   "name": "python37364bitbaseconda1bf81766e72b469cb31e18e842f292ad",
   "display_name": "Python 3.7.3 64-bit ('base': conda)"
  }
 },
 "nbformat": 4,
 "nbformat_minor": 2
}