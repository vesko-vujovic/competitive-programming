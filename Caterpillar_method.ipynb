{
 "cells": [
  {
   "cell_type": "code",
   "execution_count": 47,
   "metadata": {},
   "outputs": [],
   "source": [
    "A = [6,2,7,4,1,3,6]"
   ]
  },
  {
   "cell_type": "code",
   "execution_count": 109,
   "metadata": {},
   "outputs": [],
   "source": [
    "# Here this front and back trick is achieved with for and while loop, the for loop is back of the snake - caterpilalr\n",
    "def caterpillarMethod(A, s):\n",
    "    n = len(A)\n",
    "    front, total = 0, 0\n",
    "    for back in range(n):\n",
    "         while (front < n and total + A[front] <= s):\n",
    "            total += A[front]\n",
    "            front += 1\n",
    "         if total == s:\n",
    "            return True\n",
    "         # when caterpillar moves forward we substract the last item from it    \n",
    "         total -= A[back]\n",
    "\n",
    "    return False"
   ]
  },
  {
   "cell_type": "code",
   "execution_count": 110,
   "metadata": {},
   "outputs": [],
   "source": [
    "solution = caterpillarMethod(A, 1)"
   ]
  },
  {
   "cell_type": "code",
   "execution_count": 111,
   "metadata": {},
   "outputs": [
    {
     "output_type": "execute_result",
     "data": {
      "text/plain": "True"
     },
     "metadata": {},
     "execution_count": 111
    }
   ],
   "source": [
    "solution"
   ]
  },
  {
   "cell_type": "code",
   "execution_count": 157,
   "metadata": {},
   "outputs": [],
   "source": [
    "def triangles(A):\n",
    "    n = len(A)\n",
    "    result = 0\n",
    "\n",
    "    for x in range(n):\n",
    "        # x + 2 bacause z is third element \n",
    "        z = x + 2\n",
    "        for y in range(x + 1, n):\n",
    "            while (z < n and A[x] + A[y] > A[z]):\n",
    "                z += 1\n",
    "            result += z - y - 1\n",
    "\n",
    "    return result\n",
    ""
   ]
  },
  {
   "cell_type": "code",
   "execution_count": 155,
   "metadata": {},
   "outputs": [],
   "source": [
    "test = triangles(A)"
   ]
  },
  {
   "cell_type": "code",
   "execution_count": 156,
   "metadata": {},
   "outputs": [
    {
     "output_type": "execute_result",
     "data": {
      "text/plain": "33"
     },
     "metadata": {},
     "execution_count": 156
    }
   ],
   "source": [
    "test"
   ]
  },
  {
   "cell_type": "code",
   "execution_count": null,
   "metadata": {},
   "outputs": [],
   "source": []
  }
 ],
 "metadata": {
  "language_info": {
   "name": "python",
   "codemirror_mode": {
    "name": "ipython",
    "version": 3
   },
   "version": "3.6.10-final"
  },
  "orig_nbformat": 2,
  "file_extension": ".py",
  "mimetype": "text/x-python",
  "name": "python",
  "npconvert_exporter": "python",
  "pygments_lexer": "ipython3",
  "version": 3,
  "kernelspec": {
   "name": "python37364bitbaseconda1bf81766e72b469cb31e18e842f292ad",
   "display_name": "Python 3.7.3 64-bit ('base': conda)"
  }
 },
 "nbformat": 4,
 "nbformat_minor": 2
}