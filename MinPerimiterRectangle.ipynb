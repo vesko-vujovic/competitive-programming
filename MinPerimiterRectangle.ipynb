{
 "cells": [
  {
   "cell_type": "code",
   "execution_count": 6,
   "metadata": {},
   "outputs": [],
   "source": [
    "N = 30"
   ]
  },
  {
   "cell_type": "code",
   "execution_count": 14,
   "metadata": {},
   "outputs": [],
   "source": [
    "def get_factors(N):\n",
    "    n = N\n",
    "    i = 1\n",
    "    res = []\n",
    "\n",
    "    while (i * i < n):\n",
    "        if (n % i == 0):\n",
    "            res.append(i)\n",
    "        i += 1\n",
    "        \n",
    "    if (i * i == n):\n",
    "        res.append(i)\n",
    "\n",
    "    return res\n",
    "\n"
   ]
  },
  {
   "cell_type": "code",
   "execution_count": 15,
   "metadata": {},
   "outputs": [],
   "source": [
    "def solution(N):\n",
    "    res = get_factors(N)\n",
    "    \n",
    "    min_perimeter = 2 * (N + res[0])\n",
    "\n",
    "    for i in range(1, len(res)):\n",
    "        n = N // res[i]\n",
    "\n",
    "        perimeter = 2 * (n + res[i])\n",
    "\n",
    "        min_perimeter = min(min_perimeter, perimeter)\n",
    "\n",
    "    return min_perimeter\n"
   ]
  },
  {
   "cell_type": "code",
   "execution_count": 16,
   "metadata": {},
   "outputs": [],
   "source": [
    "solution = solution(N)"
   ]
  },
  {
   "cell_type": "code",
   "execution_count": 17,
   "metadata": {},
   "outputs": [
    {
     "output_type": "execute_result",
     "data": {
      "text/plain": "22"
     },
     "metadata": {},
     "execution_count": 17
    }
   ],
   "source": [
    "solution"
   ]
  },
  {
   "cell_type": "code",
   "execution_count": null,
   "metadata": {},
   "outputs": [],
   "source": []
  }
 ],
 "metadata": {
  "language_info": {
   "name": "python",
   "codemirror_mode": {
    "name": "ipython",
    "version": 3
   },
   "version": "3.6.10-final"
  },
  "orig_nbformat": 2,
  "file_extension": ".py",
  "mimetype": "text/x-python",
  "name": "python",
  "npconvert_exporter": "python",
  "pygments_lexer": "ipython3",
  "version": 3,
  "kernelspec": {
   "name": "python37364bitbaseconda1bf81766e72b469cb31e18e842f292ad",
   "display_name": "Python 3.7.3 64-bit ('base': conda)"
  }
 },
 "nbformat": 4,
 "nbformat_minor": 2
}