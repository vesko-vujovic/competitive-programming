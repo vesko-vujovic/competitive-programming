{
 "nbformat": 4,
 "nbformat_minor": 2,
 "metadata": {
  "language_info": {
   "name": "python",
   "codemirror_mode": {
    "name": "ipython",
    "version": 3
   },
   "version": "3.7.3-final"
  },
  "orig_nbformat": 2,
  "file_extension": ".py",
  "mimetype": "text/x-python",
  "name": "python",
  "npconvert_exporter": "python",
  "pygments_lexer": "ipython3",
  "version": 3,
  "kernelspec": {
   "name": "python37664bit27c6ac482a5b470280c6514c5ee5ba8d",
   "display_name": "Python 3.7.6 64-bit"
  }
 },
 "cells": [
  {
   "cell_type": "code",
   "execution_count": 1,
   "metadata": {},
   "outputs": [],
   "source": [
    "A = [15,10,3,50]\n",
    "B = [75,30,5,100]"
   ]
  },
  {
   "cell_type": "code",
   "execution_count": 2,
   "metadata": {},
   "outputs": [],
   "source": [
    "def gcd(p, q):\n",
    "  if q == 0:\n",
    "    return p\n",
    "  return gcd(q, p % q)\n",
    " "
   ]
  },
  {
   "cell_type": "code",
   "execution_count": 5,
   "metadata": {},
   "outputs": [],
   "source": [
    "def hasSameFactors(p, q):\n",
    "    if p == q == 0:\n",
    "        return True\n",
    "     \n",
    "    denom = gcd(p,q)\n",
    "     \n",
    "    while (p != 1):\n",
    "        p_gcd = gcd(p,denom)\n",
    "        if p_gcd == 1:\n",
    "            break\n",
    "        p /= p_gcd\n",
    "    else:\n",
    "        while (q != 1):\n",
    "            q_gcd = gcd(q,denom)\n",
    "            if q_gcd == 1:\n",
    "                break\n",
    "            q /= q_gcd\n",
    "        else:\n",
    "            return True\n",
    "     \n",
    "    return False"
   ]
  },
  {
   "cell_type": "code",
   "execution_count": 8,
   "metadata": {},
   "outputs": [],
   "source": [
    "def solution(A, B):\n",
    "    if len(A) != len(B):\n",
    "        raise Exception(\"Invalid input\")\n",
    "    cnt = 0\n",
    "    for idx in range(len(A)):\n",
    "        if A[idx] < 0 or B[idx] < 0:\n",
    "            raise Exception(\"Invalid value\")\n",
    "        if hasSameFactors(A[idx], B[idx]):\n",
    "            cnt += 1\n",
    "     \n",
    "    return cnt"
   ]
  },
  {
   "cell_type": "code",
   "execution_count": 9,
   "metadata": {},
   "outputs": [
    {
     "output_type": "stream",
     "name": "stdout",
     "text": "1.0 15\n5.0 15\n1.0 15\n1.0 10\n3.0 10\n"
    }
   ],
   "source": [
    "solution = solution(A, B)"
   ]
  },
  {
   "cell_type": "code",
   "execution_count": 10,
   "metadata": {},
   "outputs": [
    {
     "output_type": "execute_result",
     "data": {
      "text/plain": "1"
     },
     "metadata": {},
     "execution_count": 10
    }
   ],
   "source": [
    "solution"
   ]
  },
  {
   "cell_type": "code",
   "execution_count": null,
   "metadata": {},
   "outputs": [],
   "source": []
  }
 ]
}