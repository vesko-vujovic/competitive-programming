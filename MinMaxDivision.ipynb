{
 "cells": [
  {
   "cell_type": "code",
   "execution_count": 5,
   "metadata": {},
   "outputs": [],
   "source": [
    "# TODO: NEED TO STUDY MORE THIS CASE\n",
    "\n",
    "A = [2,1,5,1,2,2,2]\n",
    "K = 3"
   ]
  },
  {
   "cell_type": "code",
   "execution_count": 10,
   "metadata": {},
   "outputs": [],
   "source": [
    "def blockSizeIsValid(A, max_block_cnt, max_block_size):\n",
    "\n",
    "    block_sum = 0\n",
    "    block_cnt = 0\n",
    " \n",
    "    for element in A:\n",
    "        if block_sum + element > max_block_size:\n",
    "            block_sum = element\n",
    "            block_cnt += 1\n",
    "        else:\n",
    "            block_sum += element\n",
    "        if block_cnt >= max_block_cnt:\n",
    "            return False\n",
    " \n",
    "    return True"
   ]
  },
  {
   "cell_type": "code",
   "execution_count": 11,
   "metadata": {},
   "outputs": [],
   "source": [
    "# here he is sorting the whole array by the sum \n",
    "# then he increments to se what is optimal block size\n",
    "# TO EXPLAIN MORE the tricks with SUM\n",
    "# here the min - or lower_bound is max of A and upper bound or maximum sum is the summ of whole array\n",
    "\n",
    "\n",
    "def binarySearch(A, max_block_cnt):\n",
    "    # we are setting here start and end for binary search\n",
    "    lower_bound = max(A)\n",
    "    upper_bound = sum(A)\n",
    " \n",
    "    if max_block_cnt == 1:      return upper_bound\n",
    "    if max_block_cnt >= len(A): return lower_bound\n",
    " \n",
    "    while lower_bound <= upper_bound:\n",
    "       \n",
    "        candidate_mid = (lower_bound + upper_bound) // 2\n",
    "\n",
    "        if blockSizeIsValid(A, max_block_cnt, candidate_mid):\n",
    "            upper_bound = candidate_mid - 1\n",
    "        else:\n",
    "            lower_bound = candidate_mid + 1\n",
    " \n",
    "    return lower_bound"
   ]
  },
  {
   "cell_type": "code",
   "execution_count": 12,
   "metadata": {},
   "outputs": [],
   "source": [
    "def solution(K, A):\n",
    "    return binarySearch(A,K)"
   ]
  },
  {
   "cell_type": "code",
   "execution_count": 13,
   "metadata": {},
   "outputs": [
    {
     "output_type": "stream",
     "name": "stdout",
     "text": "False 2\nFalse 1\nFalse 5\nFalse 1\nTrue 2\nFalse 2\nFalse 2\nFalse 2\nFalse 1\nTrue 5\nFalse 1\nTrue 2\nFalse 2\nFalse 2\nFalse 2\nFalse 1\nTrue 5\nTrue 1\nFalse 2\nFalse 2\nTrue 2\nFalse 2\nFalse 1\nTrue 5\nFalse 1\nTrue 2\nFalse 2\nFalse 2\n"
    }
   ],
   "source": [
    "res = solution(K, A)"
   ]
  },
  {
   "cell_type": "code",
   "execution_count": 9,
   "metadata": {},
   "outputs": [
    {
     "output_type": "execute_result",
     "data": {
      "text/plain": "6"
     },
     "metadata": {},
     "execution_count": 9
    }
   ],
   "source": [
    "res"
   ]
  },
  {
   "cell_type": "code",
   "execution_count": null,
   "metadata": {},
   "outputs": [],
   "source": []
  }
 ],
 "metadata": {
  "language_info": {
   "name": "python",
   "codemirror_mode": {
    "name": "ipython",
    "version": 3
   },
   "version": "3.6.10-final"
  },
  "orig_nbformat": 2,
  "file_extension": ".py",
  "mimetype": "text/x-python",
  "name": "python",
  "npconvert_exporter": "python",
  "pygments_lexer": "ipython3",
  "version": 3,
  "kernelspec": {
   "name": "python37364bitbaseconda1bf81766e72b469cb31e18e842f292ad",
   "display_name": "Python 3.7.3 64-bit ('base': conda)"
  }
 },
 "nbformat": 4,
 "nbformat_minor": 2
}