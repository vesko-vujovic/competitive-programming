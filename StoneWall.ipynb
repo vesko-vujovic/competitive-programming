{
 "cells": [
  {
   "cell_type": "code",
   "execution_count": 1,
   "metadata": {},
   "outputs": [],
   "source": [
    "H = [8,8,5,7,9,8,7,4,8];"
   ]
  },
  {
   "cell_type": "code",
   "execution_count": 11,
   "metadata": {},
   "outputs": [],
   "source": [
    "# need to see more how this works, the task is confusing \n",
    "def solution(H):\n",
    "    block_cnt = 0\n",
    "     \n",
    "    stack = []\n",
    "     \n",
    "    for height in H:\n",
    "\n",
    "        while len(stack) != 0 and stack[-1] > height:\n",
    "            stack.pop()\n",
    "\n",
    "        if len(stack) != 0 and stack[-1] == height:\n",
    "            pass\n",
    "        else:\n",
    "            # new block is required, push it's size to the stack\n",
    "            block_cnt += 1\n",
    "            stack.append(height)\n",
    "    \n",
    "             \n",
    "    return block_cnt"
   ]
  },
  {
   "cell_type": "code",
   "execution_count": 12,
   "metadata": {},
   "outputs": [
    {
     "output_type": "stream",
     "name": "stdout",
     "text": "8 5\n[8]\n9 8\n[5, 7, 9]\n8 7\n[5, 7, 8]\n7 4\n[5, 7]\n5 4\n[5]\n"
    }
   ],
   "source": [
    "solution = solution(H)"
   ]
  },
  {
   "cell_type": "code",
   "execution_count": 13,
   "metadata": {},
   "outputs": [
    {
     "output_type": "execute_result",
     "data": {
      "text/plain": "7"
     },
     "metadata": {},
     "execution_count": 13
    }
   ],
   "source": [
    "solution"
   ]
  },
  {
   "cell_type": "code",
   "execution_count": null,
   "metadata": {},
   "outputs": [],
   "source": []
  }
 ],
 "metadata": {
  "language_info": {
   "name": "python",
   "codemirror_mode": {
    "name": "ipython",
    "version": 3
   },
   "version": "3.6.10-final"
  },
  "orig_nbformat": 2,
  "file_extension": ".py",
  "mimetype": "text/x-python",
  "name": "python",
  "npconvert_exporter": "python",
  "pygments_lexer": "ipython3",
  "version": 3,
  "kernelspec": {
   "name": "python37364bitbaseconda1bf81766e72b469cb31e18e842f292ad",
   "display_name": "Python 3.7.3 64-bit ('base': conda)"
  }
 },
 "nbformat": 4,
 "nbformat_minor": 2
}