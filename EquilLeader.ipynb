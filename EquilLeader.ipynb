{
 "cells": [
  {
   "cell_type": "code",
   "execution_count": 24,
   "metadata": {},
   "outputs": [],
   "source": [
    "A = [4,3,4,4,4,2]"
   ]
  },
  {
   "cell_type": "code",
   "execution_count": 29,
   "metadata": {},
   "outputs": [],
   "source": [
    "def solution(A):\n",
    "    n = len(A)\n",
    "    size = 0\n",
    "\n",
    "    for i in range(n):\n",
    "        if(size == 0):\n",
    "            size += 1\n",
    "            value = A[i]\n",
    "        else:\n",
    "            if (value != A[i]):\n",
    "                size -= 1\n",
    "            else:\n",
    "                size += 1\n",
    "    \n",
    "    if size == 0:\n",
    "        return 0\n",
    "\n",
    "    candidate = -1\n",
    "    if (size > 0):\n",
    "        candidate = value\n",
    "    \n",
    "    count = 0\n",
    "\n",
    "    for k in range(n):\n",
    "        if (A[k] == candidate):\n",
    "            count += 1\n",
    "            last_index = k\n",
    "\n",
    "    if count < n // 2:\n",
    "        return 0\n",
    "    \n",
    "    equi_count = 0\n",
    "    count_from_to_the_left = 0\n",
    "\n",
    "    for j in range(n):\n",
    "        if (A[j] == candidate):\n",
    "            count_from_to_the_left += 1\n",
    "        \n",
    "        # here we split the whole array in two peaces and we check separatley if we have leader in that \n",
    "        if count_from_to_the_left > (j+1) //  2 and count - count_from_to_the_left > (n - j - 1) // 2:\n",
    "            equi_count += 1\n",
    "    \n",
    "    \n",
    "    return equi_count\n",
    "   "
   ]
  },
  {
   "cell_type": "code",
   "execution_count": 30,
   "metadata": {},
   "outputs": [
    {
     "name": "stdout",
     "output_type": "stream",
     "text": "5\n4\n3\n2\n1\n0\n"
    }
   ],
   "source": [
    "solution = solution(A)"
   ]
  },
  {
   "cell_type": "code",
   "execution_count": 28,
   "metadata": {},
   "outputs": [
    {
     "data": {
      "text/plain": "2"
     },
     "execution_count": 28,
     "metadata": {},
     "output_type": "execute_result"
    }
   ],
   "source": [
    "solution"
   ]
  },
  {
   "cell_type": "code",
   "execution_count": null,
   "metadata": {},
   "outputs": [],
   "source": []
  }
 ],
 "metadata": {
  "language_info": {
   "name": "python",
   "codemirror_mode": {
    "name": "ipython",
    "version": 3
   },
   "version": "3.7.6-final"
  },
  "orig_nbformat": 2,
  "file_extension": ".py",
  "mimetype": "text/x-python",
  "name": "python",
  "npconvert_exporter": "python",
  "pygments_lexer": "ipython3",
  "version": 3,
  "kernelspec": {
   "name": "python37664bit27c6ac482a5b470280c6514c5ee5ba8d",
   "display_name": "Python 3.7.6 64-bit"
  }
 },
 "nbformat": 4,
 "nbformat_minor": 2
}