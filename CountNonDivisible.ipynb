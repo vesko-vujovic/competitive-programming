{
 "cells": [
  {
   "cell_type": "code",
   "execution_count": 35,
   "metadata": {},
   "outputs": [],
   "source": [
    "A = [3,1,2,3,6]"
   ]
  },
  {
   "cell_type": "code",
   "execution_count": 74,
   "metadata": {},
   "outputs": [],
   "source": [
    "def solution(A):\n",
    "  \n",
    "    A_max = max(A)\n",
    "  \n",
    "    count = {}\n",
    "    divisors = {}\n",
    "\n",
    "    # count occurence of every element and create divisors of every number \n",
    "    # we know that every number has at least 2 dividers 1 and itself: e.g divisors of 5 are 1 and 5\n",
    "    for element in A:\n",
    "\n",
    "        divisors[element] = set([1, element])\n",
    "\n",
    "        if element not in count:\n",
    "            count[element] = 1\n",
    "        else:\n",
    "            count[element] += 1   \n",
    "\n",
    "    # Sieve of Eratosthenes algorithm \n",
    "    divisor = 2\n",
    "    while divisor * divisor <= A_max:\n",
    "        element_candidate = divisor\n",
    "        \n",
    "        while element_candidate  <= A_max:\n",
    "\n",
    "            if element_candidate in divisors and not divisor in divisors[element_candidate]:\n",
    "                divisors[element_candidate].add(divisor)\n",
    "                # here we divide everytime from algorithm for factorization\n",
    "                divisors[element_candidate].add(element_candidate // divisor)\n",
    "            element_candidate += divisor\n",
    "        divisor += 1\n",
    "  \n",
    "    result = [0] * len(A)\n",
    "\n",
    "    # we sum divisors for every element in our dictionary divisors and then\n",
    "    # we subtract that sum from total length of the array\n",
    "    for idx, element in enumerate(A):\n",
    "        result[idx] = (len(A) - sum([count.get(divisor,0) for divisor in divisors[element]]))\n",
    "\n",
    "\n",
    "    return result"
   ]
  },
  {
   "cell_type": "code",
   "execution_count": 75,
   "metadata": {},
   "outputs": [],
   "source": [
    "solution = solution(A)"
   ]
  },
  {
   "cell_type": "code",
   "execution_count": 76,
   "metadata": {},
   "outputs": [
    {
     "output_type": "execute_result",
     "data": {
      "text/plain": "[3, 4, 3, 3, 1]"
     },
     "metadata": {},
     "execution_count": 76
    }
   ],
   "source": [
    "solution"
   ]
  },
  {
   "cell_type": "code",
   "execution_count": null,
   "metadata": {},
   "outputs": [],
   "source": []
  }
 ],
 "metadata": {
  "language_info": {
   "name": "python",
   "codemirror_mode": {
    "name": "ipython",
    "version": 3
   },
   "version": "3.7.3-final"
  },
  "orig_nbformat": 2,
  "file_extension": ".py",
  "mimetype": "text/x-python",
  "name": "python",
  "npconvert_exporter": "python",
  "pygments_lexer": "ipython3",
  "version": 3,
  "kernelspec": {
   "name": "python37664bit27c6ac482a5b470280c6514c5ee5ba8d",
   "display_name": "Python 3.7.6 64-bit"
  }
 },
 "nbformat": 4,
 "nbformat_minor": 2
}