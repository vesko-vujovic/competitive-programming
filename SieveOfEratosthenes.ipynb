{
 "cells": [
  {
   "cell_type": "code",
   "execution_count": 1,
   "metadata": {},
   "outputs": [],
   "source": [
    "A = [2,3,4,5,6,7,8,9,10,11,12,12,14,15,16,17]"
   ]
  },
  {
   "cell_type": "code",
   "execution_count": 2,
   "metadata": {},
   "outputs": [],
   "source": [
    "def sieve(n):\n",
    "    sieve = [True] * (n + 1)\n",
    "\n",
    "    sieve[0] = sieve[1] = False\n",
    "\n",
    "    i = 2\n",
    "\n",
    "    while ((i * i) <= n):\n",
    "        if (sieve[i]):\n",
    "            k = i * i\n",
    "        \n",
    "        while (k <= n):\n",
    "            sieve[k] = False\n",
    "            k += i\n",
    "        i += 1\n",
    "\n",
    "    return sieve"
   ]
  },
  {
   "cell_type": "code",
   "execution_count": 3,
   "metadata": {},
   "outputs": [],
   "source": [
    "test = sieve(17)"
   ]
  },
  {
   "cell_type": "code",
   "execution_count": 2,
   "metadata": {},
   "outputs": [],
   "source": [
    "def arrayF(n):\n",
    "    F = [0] * (n + 1)\n",
    "    i = 2\n",
    "    while (i * i <= n):\n",
    "        if (F[i] == 0):\n",
    "            k = i * i\n",
    "        while (k <= n):\n",
    "            if (F[k] == 0): \n",
    "                F[k] = i\n",
    "            k += i\n",
    "        i += 1\n",
    "\n",
    "    return F"
   ]
  },
  {
   "cell_type": "code",
   "execution_count": 16,
   "metadata": {},
   "outputs": [],
   "source": [
    "test2 = arrayF(24)"
   ]
  },
  {
   "cell_type": "code",
   "execution_count": 17,
   "metadata": {},
   "outputs": [
    {
     "output_type": "execute_result",
     "data": {
      "text/plain": "[0, 0, 0, 0, 2, 0, 2, 0, 2, 3, 2, 0, 2, 0, 2, 3, 2, 0, 2, 0, 2, 3, 2, 0, 2]"
     },
     "metadata": {},
     "execution_count": 17
    }
   ],
   "source": [
    "test2"
   ]
  },
  {
   "cell_type": "code",
   "execution_count": 21,
   "metadata": {},
   "outputs": [],
   "source": [
    "def factorization(x, F):\n",
    "    primeFactors = []\n",
    "\n",
    "    while (F[x] > 0):\n",
    "        primeFactors += [F[x]]\n",
    "        x = x // F[x]\n",
    "\n",
    "    primeFactors += [x]\n",
    "    \n",
    "    return primeFactors"
   ]
  },
  {
   "cell_type": "code",
   "execution_count": 24,
   "metadata": {},
   "outputs": [
    {
     "output_type": "stream",
     "name": "stdout",
     "text": "24\n12\n6\n"
    }
   ],
   "source": [
    "solution = factorization(24,test2)"
   ]
  },
  {
   "cell_type": "code",
   "execution_count": 32,
   "metadata": {},
   "outputs": [
    {
     "output_type": "execute_result",
     "data": {
      "text/plain": "[2, 2, 2, 3]"
     },
     "metadata": {},
     "execution_count": 32
    }
   ],
   "source": [
    "solution"
   ]
  },
  {
   "cell_type": "markdown",
   "metadata": {},
   "source": []
  }
 ],
 "metadata": {
  "language_info": {
   "name": "python",
   "codemirror_mode": {
    "name": "ipython",
    "version": 3
   },
   "version": "3.6.10-final"
  },
  "orig_nbformat": 2,
  "file_extension": ".py",
  "mimetype": "text/x-python",
  "name": "python",
  "npconvert_exporter": "python",
  "pygments_lexer": "ipython3",
  "version": 3,
  "kernelspec": {
   "name": "python37364bitbaseconda1bf81766e72b469cb31e18e842f292ad",
   "display_name": "Python 3.7.3 64-bit ('base': conda)"
  }
 },
 "nbformat": 4,
 "nbformat_minor": 2
}