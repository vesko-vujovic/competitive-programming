{
 "nbformat": 4,
 "nbformat_minor": 2,
 "metadata": {
  "language_info": {
   "name": "python",
   "codemirror_mode": {
    "name": "ipython",
    "version": 3
   },
   "version": "3.7.3-final"
  },
  "orig_nbformat": 2,
  "file_extension": ".py",
  "mimetype": "text/x-python",
  "name": "python",
  "npconvert_exporter": "python",
  "pygments_lexer": "ipython3",
  "version": 3,
  "kernelspec": {
   "name": "python37664bit27c6ac482a5b470280c6514c5ee5ba8d",
   "display_name": "Python 3.7.6 64-bit"
  }
 },
 "cells": [
  {
   "cell_type": "code",
   "execution_count": 3,
   "metadata": {},
   "outputs": [],
   "source": [
    "A = []"
   ]
  },
  {
   "cell_type": "code",
   "execution_count": 4,
   "metadata": {},
   "outputs": [],
   "source": [
    "# greatest common divisor - based on subtraction\n",
    "def gcd(a, b):\n",
    "\n",
    "    if a == b:\n",
    "        return a\n",
    "    \n",
    "    if a > b:\n",
    "        gcd (a - b, b)\n",
    "    else:\n",
    "        gcd (a, b - a)"
   ]
  },
  {
   "cell_type": "code",
   "execution_count": 5,
   "metadata": {},
   "outputs": [],
   "source": [
    "def gcd_mod(a, b):\n",
    "    if a % b == 0:\n",
    "        return b\n",
    "    else:\n",
    "        return gcd_mod(b, a % b)"
   ]
  },
  {
   "cell_type": "code",
   "execution_count": 6,
   "metadata": {},
   "outputs": [],
   "source": [
    "# Binary algorithm is faster for big numbers \n",
    "\n",
    "def gcd_binary(a, b, res):\n",
    "\n",
    "    if a == b:\n",
    "        return res * a\n",
    "    elif (a % 2 == 0) and (b % 2 == 0):\n",
    "         return gcd_binary(a // 2, b // 2, 2 * res)\n",
    "    elif (a % 2 == 0):\n",
    "         return gcd_binary(a // 2, b, res)\n",
    "    elif (b % 2 == 0):\n",
    "         return gcd_binary(a, b // 2, res)\n",
    "    elif a > b:\n",
    "        return gcd_binary(a - b, b, res)\n",
    "    else:\n",
    "        return gcd_binary(a, b - a, res)"
   ]
  },
  {
   "cell_type": "code",
   "execution_count": 7,
   "metadata": {},
   "outputs": [],
   "source": [
    "test = gcd_binary(24, 9, 1)"
   ]
  },
  {
   "cell_type": "code",
   "execution_count": 8,
   "metadata": {},
   "outputs": [],
   "source": [
    "def lcm(a, b):\n",
    "    return a * b / gcd_mod(a,b)"
   ]
  },
  {
   "cell_type": "code",
   "execution_count": 9,
   "metadata": {},
   "outputs": [],
   "source": [
    "lcm = lcm(15,75)"
   ]
  },
  {
   "cell_type": "code",
   "execution_count": null,
   "metadata": {},
   "outputs": [],
   "source": [
    "lcm"
   ]
  },
  {
   "cell_type": "code",
   "execution_count": null,
   "metadata": {},
   "outputs": [],
   "source": []
  }
 ]
}