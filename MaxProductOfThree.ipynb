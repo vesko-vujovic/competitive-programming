{
 "cells": [
  {
   "cell_type": "code",
   "execution_count": 7,
   "metadata": {},
   "outputs": [],
   "source": [
    "A = [-3,1,2,-2,5,6]"
   ]
  },
  {
   "cell_type": "code",
   "execution_count": 8,
   "metadata": {},
   "outputs": [],
   "source": [
    "# the trick here is not to check whole array instead we sort array in DESC order for biggest to smallest\n",
    "# [6, 5, 2, 1, -2, -3] --> here the max sum will be definately first 3 elemnts  last 3 if they are negative\n",
    "# After sorting the largest product can be found as a combination of the last three elements. Additionally, two negative\n",
    "# numbers add to a positive, so by multiplying the two largest negatives with the largest positive, we get another \n",
    "# candidate. If all numbers are negative, the three largest (closest to 0) still get the largest element!\n",
    "def solution(A):\n",
    "    \n",
    "    if len(A) < 3:\n",
    "        return 0\n",
    "    \n",
    "    A.sort(reverse=True)\n",
    "\n",
    "    print(A)\n",
    "\n",
    "    case1 = A[0] * A[1] * A[2]\n",
    "    case2 = A[-3] * A[-2] * A[-1]\n",
    "    case3 = A[0] * A[-2] * A[-1]\n",
    "    case4 = A[0] * A[1] * A[-1]\n",
    "\n",
    "    max1 = max(case1, case2)\n",
    "    max2 = max(case3, case4)\n",
    "\n",
    "\n",
    "    return max(max1, max2)\n",
    "    \n"
   ]
  },
  {
   "cell_type": "code",
   "execution_count": 9,
   "metadata": {},
   "outputs": [
    {
     "output_type": "stream",
     "name": "stdout",
     "text": "[6, 5, 2, 1, -2, -3]\n"
    }
   ],
   "source": [
    "solution = solution(A)"
   ]
  },
  {
   "cell_type": "code",
   "execution_count": 10,
   "metadata": {},
   "outputs": [
    {
     "output_type": "execute_result",
     "data": {
      "text/plain": "60"
     },
     "metadata": {},
     "execution_count": 10
    }
   ],
   "source": [
    "solution"
   ]
  },
  {
   "cell_type": "code",
   "execution_count": null,
   "metadata": {},
   "outputs": [],
   "source": []
  }
 ],
 "metadata": {
  "language_info": {
   "name": "python",
   "codemirror_mode": {
    "name": "ipython",
    "version": 3
   },
   "version": "3.6.10-final"
  },
  "orig_nbformat": 2,
  "file_extension": ".py",
  "mimetype": "text/x-python",
  "name": "python",
  "npconvert_exporter": "python",
  "pygments_lexer": "ipython3",
  "version": 3,
  "kernelspec": {
   "name": "python37364bitbaseconda1bf81766e72b469cb31e18e842f292ad",
   "display_name": "Python 3.7.3 64-bit ('base': conda)"
  }
 },
 "nbformat": 4,
 "nbformat_minor": 2
}