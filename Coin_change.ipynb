{
 "cells": [
  {
   "cell_type": "code",
   "execution_count": 6,
   "metadata": {},
   "outputs": [],
   "source": [
    "# greedy algorithm for finding change\n",
    "def greedyCoinChangeProblem(M, k):\n",
    "    n      = len(M)\n",
    "    result = []\n",
    "\n",
    "    for i in range(n-1, -1,  -1):\n",
    "        result += [(M[i], k // M[i])]\n",
    "        k %= M[i]\n",
    "    \n",
    "    return result\n"
   ]
  },
  {
   "cell_type": "code",
   "execution_count": 7,
   "metadata": {},
   "outputs": [],
   "source": [
    "M = [1, 2, 5]"
   ]
  },
  {
   "cell_type": "code",
   "execution_count": 8,
   "metadata": {},
   "outputs": [],
   "source": [
    "solution = greedyCoinChangeProblem(M, 6)"
   ]
  },
  {
   "cell_type": "code",
   "execution_count": 9,
   "metadata": {},
   "outputs": [
    {
     "output_type": "execute_result",
     "data": {
      "text/plain": "[(5, 1), (2, 0), (1, 1)]"
     },
     "metadata": {},
     "execution_count": 9
    }
   ],
   "source": [
    "solution"
   ]
  },
  {
   "cell_type": "code",
   "execution_count": 10,
   "metadata": {},
   "outputs": [],
   "source": [
    "def greedyCanoeistA(W, k):\n",
    "\n",
    "    N = len(W)\n",
    "    skinny = deque()\n",
    "    fatso = deque()\n",
    "\n",
    "    for i in xrange(N - 1):\n",
    "        if W[i] + W[-1] <= k:\n",
    "            skinny.append(W[i])\n",
    "        else:\n",
    "            fatso.append(W[i])\n",
    "    \n",
    "    fatso.append(W[-1])\n",
    "    canoes = 0\n",
    "\n",
    "    while (skinny or fatso):\n",
    "        if len(skinny) > 0:\n",
    "            skinny.pop()\n",
    "        fatso.pop()\n",
    "        canoes += 1\n",
    "\n",
    "        if (not fatso and skinny):\n",
    "            fatso.append(skinny.pop())\n",
    "\n",
    "        while (len(fatso) > 1 and fatso[-1] + fatso[0] <= k):\n",
    "            skinny.append(fatso.popleft())\n",
    "            \n",
    "    return canoes"
   ]
  },
  {
   "cell_type": "code",
   "execution_count": null,
   "metadata": {},
   "outputs": [],
   "source": [
    "def greedyCanoeistB(W, k):\n",
    "    canoes = 0\n",
    "    j = 0\n",
    "    i = len(W) - 1\n",
    "\n",
    "    while (i >= j):\n",
    "        if W[i] + W[j] <= k:\n",
    "            j += 1\n",
    "        canoes += 1\n",
    "        i -= 1\n",
    "\n",
    "    return canoes"
   ]
  }
 ],
 "metadata": {
  "language_info": {
   "codemirror_mode": {
    "name": "ipython",
    "version": 3
   },
   "file_extension": ".py",
   "mimetype": "text/x-python",
   "name": "python",
   "nbconvert_exporter": "python",
   "pygments_lexer": "ipython3",
   "version": "3.6.10-final"
  },
  "orig_nbformat": 2,
  "kernelspec": {
   "name": "python37364bitbaseconda1bf81766e72b469cb31e18e842f292ad",
   "display_name": "Python 3.7.3 64-bit ('base': conda)"
  }
 },
 "nbformat": 4,
 "nbformat_minor": 2
}