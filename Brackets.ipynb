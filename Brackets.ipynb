{
 "cells": [
  {
   "cell_type": "code",
   "execution_count": 16,
   "metadata": {},
   "outputs": [],
   "source": [
    "S = '{[()(]}'"
   ]
  },
  {
   "cell_type": "code",
   "execution_count": 17,
   "metadata": {},
   "outputs": [],
   "source": [
    "def is_valid_pair(left, right):\n",
    "    if left == '(' and right == ')':\n",
    "        return True\n",
    "    \n",
    "    if left == '[' and right == ']':\n",
    "        return True \n",
    "    \n",
    "    if left == '{' and right == '}':\n",
    "        return True \n",
    "    \n",
    "    return False"
   ]
  },
  {
   "cell_type": "code",
   "execution_count": 18,
   "metadata": {},
   "outputs": [],
   "source": [
    "# we put opening brackets on stack if there is first string like this  ] , } , ) and stack is zero then we stop algorithm and return zero\n",
    "\n",
    "def solution(S):\n",
    "    stack = []\n",
    "\n",
    "    for item in S:\n",
    "        if item == '[' or item == '{' or item == '(':\n",
    "            stack.append(item)\n",
    "        else:\n",
    "            if(len(stack) == 0):\n",
    "                return 0\n",
    "            last = stack.pop()\n",
    "            if not is_valid_pair(last, item):\n",
    "                return 0\n",
    "    if len(stack) != 0:\n",
    "        return 0\n",
    "    \n",
    "    return 1\n",
    "\n"
   ]
  },
  {
   "cell_type": "code",
   "execution_count": 19,
   "metadata": {},
   "outputs": [],
   "source": [
    "solution = solution(S)"
   ]
  },
  {
   "cell_type": "code",
   "execution_count": 20,
   "metadata": {},
   "outputs": [
    {
     "data": {
      "text/plain": "0"
     },
     "execution_count": 20,
     "metadata": {},
     "output_type": "execute_result"
    }
   ],
   "source": [
    "solution"
   ]
  },
  {
   "cell_type": "code",
   "execution_count": null,
   "metadata": {},
   "outputs": [],
   "source": []
  }
 ],
 "metadata": {
  "language_info": {
   "name": "python",
   "codemirror_mode": {
    "name": "ipython",
    "version": 3
   },
   "version": "3.7.3-final"
  },
  "orig_nbformat": 2,
  "file_extension": ".py",
  "mimetype": "text/x-python",
  "name": "python",
  "npconvert_exporter": "python",
  "pygments_lexer": "ipython3",
  "version": 3,
  "kernelspec": {
   "name": "python37364bitbaseconda1bf81766e72b469cb31e18e842f292ad",
   "display_name": "Python 3.7.3 64-bit ('base': conda)"
  }
 },
 "nbformat": 4,
 "nbformat_minor": 2
}