{
 "cells": [
  {
   "cell_type": "code",
   "execution_count": 4,
   "metadata": {},
   "outputs": [],
   "source": [
    "A = [3, 2, 6, -1, 4, 5, -1, 2]"
   ]
  },
  {
   "cell_type": "code",
   "execution_count": 14,
   "metadata": {},
   "outputs": [],
   "source": [
    "def solution(A):\n",
    "    N  = len(A)\n",
    "\n",
    "    slice1 = [0] * N\n",
    "    slice2 = [0] * N\n",
    "\n",
    "    max_sum = 0\n",
    "\n",
    "\n",
    "    for i in range(1, N - 1):\n",
    "        slice1[i] = max(slice1[i-1] + A[i], 0)\n",
    "\n",
    "    for i in range(N - 2, 0, -1):\n",
    "        slice2[i] = max(slice2[i+1] + A[i], 0)\n",
    "\n",
    "\n",
    "    # why do have here i-1 and i+1, so for i = 1 ===> slice1 will start from 0 and slice2 from 2\n",
    "    # in definition of the task it says  A[X + 1] + A[X + 2] + ... + A[Y − 1] + A[Y + 1] + A[Y + 2] + ... + A[Z − 1].\n",
    "    # and  0 ≤ X < Y < Z < N  so  if x is 0 then Y should be 2 etc..\n",
    "    for i in range(1, N - 1):\n",
    "        max_sum = max(max_sum, slice1[i-1] + slice2[i+1])\n",
    "\n",
    "    return max_sum\n",
    "\n",
    "\n"
   ]
  },
  {
   "cell_type": "code",
   "execution_count": 15,
   "metadata": {},
   "outputs": [],
   "source": [
    "solution = solution(A)"
   ]
  },
  {
   "cell_type": "code",
   "execution_count": 16,
   "metadata": {},
   "outputs": [
    {
     "output_type": "execute_result",
     "data": {
      "text/plain": "17"
     },
     "metadata": {},
     "execution_count": 16
    }
   ],
   "source": [
    "solution"
   ]
  },
  {
   "cell_type": "code",
   "execution_count": null,
   "metadata": {},
   "outputs": [],
   "source": []
  }
 ],
 "metadata": {
  "language_info": {
   "codemirror_mode": {
    "name": "ipython",
    "version": 3
   },
   "file_extension": ".py",
   "mimetype": "text/x-python",
   "name": "python",
   "nbconvert_exporter": "python",
   "pygments_lexer": "ipython3",
   "version": "3.6.10-final"
  },
  "orig_nbformat": 2,
  "kernelspec": {
   "name": "python37364bitbaseconda1bf81766e72b469cb31e18e842f292ad",
   "display_name": "Python 3.7.3 64-bit ('base': conda)"
  }
 },
 "nbformat": 4,
 "nbformat_minor": 2
}